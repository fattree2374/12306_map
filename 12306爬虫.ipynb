{
 "cells": [
  {
   "cell_type": "markdown",
   "metadata": {},
   "source": [
    "# 引导区"
   ]
  },
  {
   "cell_type": "code",
   "execution_count": 1,
   "metadata": {
    "ExecuteTime": {
     "end_time": "2018-07-09T14:19:41.905598Z",
     "start_time": "2018-07-09T14:19:34.926521Z"
    }
   },
   "outputs": [],
   "source": [
    "import json\n",
    "import requests\n",
    "import pandas as pd\n",
    "from pprint import pprint\n",
    "from pandas.io.json import json_normalize"
   ]
  },
  {
   "cell_type": "markdown",
   "metadata": {},
   "source": [
    "# 页面解析函数"
   ]
  },
  {
   "cell_type": "markdown",
   "metadata": {},
   "source": [
    "## 页面解析函数"
   ]
  },
  {
   "cell_type": "markdown",
   "metadata": {},
   "source": [
    "### 查询\n",
    "0. 备注\n",
    "    * 数据全部以DF格式返回\n",
    "1. query_ticket\n",
    "    * 输入日期、起点站代码、目的站代码、车票类型(成人/?)，返回可以购买的车次的车票数据（多行）\n",
    "    * 未解决：解析返回的复杂字符串（数据包含于其内）\n",
    "        * result里的每一行车次数据的第一个复杂字符串是火车的信息，在后面提交订单的时候就是提交这段字符。这段字符是随机生成的，过几秒就会失效\n",
    "2. query_price\n",
    "    * 输入列车代码、起点站代码、目的站代码、`座位类型?`、日期，返回票价数据\n",
    "3. query_station\n",
    "    * 输入列车代码、起点站代码、目的站代码、日期，返回列车全程站点数据"
   ]
  },
  {
   "cell_type": "code",
   "execution_count": 15,
   "metadata": {
    "ExecuteTime": {
     "end_time": "2018-07-09T14:38:59.584142Z",
     "start_time": "2018-07-09T14:38:59.579101Z"
    },
    "code_folding": [
     11,
     22
    ]
   },
   "outputs": [],
   "source": [
    "#输入日期、起点站代码、目的站代码、车票类型(成人/?)，返回可以购买的车次的车票数据（多行）\n",
    "def query_ticket(train_date, from_station, to_station, ticket_type):\n",
    "    url='https://kyfw.12306.cn/otn/leftTicket/query'\n",
    "    payload = {'leftTicketDTO.train_date': train_date, #日期\n",
    "           'leftTicketDTO.from_station': from_station, #起点站\n",
    "           'leftTicketDTO.to_station': to_station, #目的站\n",
    "           'purpose_codes': ticket_type} #车票类型\n",
    "    r = requests.get(url, params=payload)\n",
    "    return r.json()\n",
    "#     return r.text\n",
    "\n",
    "#输入日期、起点站代码、目的站代码、车票类型，返回相关数据\n",
    "def query_price(train_no, from_station_no, to_station_no, seat_types, train_date):\n",
    "    url='https://kyfw.12306.cn/otn/leftTicket/queryTicketPrice'\n",
    "    payload = {'train_no': train_no, #列车代码\n",
    "           'from_station_no': from_station_no, #起点站序号\n",
    "           'to_station_no': to_station_no, #目的站序号\n",
    "           'seat_types': seat_types, #座位类型\n",
    "           'train_date': train_date} #日期\n",
    "    r = requests.get(url, params=payload)\n",
    "    return r.json()\n",
    "\n",
    "#输入列车代码、起点站代码、目的站代码、日期，返回列车全程站点数据\n",
    "def query_station(train_no, from_station, to_station, date):\n",
    "    url='https://kyfw.12306.cn/otn/czxx/queryByTrainNo'\n",
    "    payload = {'train_no': train_no, #列车代码\n",
    "           'from_station_telecode': from_station, #起点站序号\n",
    "           'to_station_telecode': to_station, #终点站序号\n",
    "           'depart_date': date} #日期\n",
    "    r = requests.get(url, params=payload)\n",
    "    return r.json()\n"
   ]
  },
  {
   "cell_type": "markdown",
   "metadata": {},
   "source": [
    "## 数据变换函数"
   ]
  },
  {
   "cell_type": "markdown",
   "metadata": {
    "heading_collapsed": true
   },
   "source": [
    "### 数据变换\n",
    "1. price_json_df\n",
    "2. trans_ticket"
   ]
  },
  {
   "cell_type": "code",
   "execution_count": 4,
   "metadata": {
    "ExecuteTime": {
     "end_time": "2018-07-07T13:27:11.246006Z",
     "start_time": "2018-07-07T13:27:11.236954Z"
    },
    "code_folding": [
     19
    ],
    "hidden": true
   },
   "outputs": [],
   "source": [
    "#或许还是存为DF格式比较好？\n",
    "def price_json_df(json_data):\n",
    "    \n",
    "    dict_data={}\n",
    "    dict_data['商务/特等']=json_data['data'].get('A9')\n",
    "    dict_data['一等座']=json_data['data'].get('M')\n",
    "    dict_data['二等座']=json_data['data'].get('O')\n",
    "    dict_data['高级软卧']=json_data['data'].get('A6')\n",
    "    dict_data['软卧']=json_data['data'].get(\"A4\")\n",
    "    dict_data['动卧']=json_data['data'].get('F')\n",
    "    dict_data['硬卧']=json_data['data'].get('A3')\n",
    "    dict_data['软座']=json_data['data'].get('A2')\n",
    "    dict_data['硬座']=json_data['data'].get('A1')\n",
    "    dict_data['无座']=json_data['data'].get('WZ')\n",
    "#     dict_data['其他']=json_data['data'][]\n",
    "    \n",
    "    return dict_data\n",
    "\n",
    "#将query_ticket查询得到的数据根据映射关系写入DF\n",
    "def trans_ticket(ticket_list):\n",
    "    df_empty = pd.DataFrame(columns=['起点站', '列车编号', '终点站', '出发站', '到达站', '出发时间', '到达时间',\n",
    "                                     '历时', '起点站发车日期', '是否可以预订', '备注', 'seat_types', '软卧',\n",
    "                                     '无座', '商务座/特等座', '一等座', '二等座'])\n",
    "    for ticket in ticket_list:\n",
    "        ticket_split = ticket.split('|')\n",
    "        print(ticket_split[3], ticket_split[30])\n",
    "        pprint(ticket_split)\n",
    "        df_empty.loc[ticket_split[3],['备注', '列车编号', '起点站', '终点站', '出发站',\n",
    "                                      '到达站', '出发时间', '到达时间',\n",
    "                                      '历时', '是否可以预订', '起点站发车日期', '软卧', '无座',\n",
    "                                      '二等座', '一等座', '商务座/特等座', 'seat_types']] = [ticket_split[1], ticket_split[2], \n",
    "                                                      ticket_split[4],\n",
    "                                                      ticket_split[5], ticket_split[6], ticket_split[7],\n",
    "                                                      ticket_split[8], ticket_split[9], ticket_split[10], \n",
    "                                                      ticket_split[11], ticket_split[13], ticket_split[23],\n",
    "                                                      ticket_split[26], ticket_split[30], ticket_split[31],\n",
    "                                                      ticket_split[32], ticket_split[35]]\n",
    "\n",
    "    return df_empty\n"
   ]
  },
  {
   "cell_type": "markdown",
   "metadata": {},
   "source": [
    "# 跳转函数"
   ]
  },
  {
   "cell_type": "markdown",
   "metadata": {},
   "source": [
    "# 主函数"
   ]
  },
  {
   "cell_type": "code",
   "execution_count": 16,
   "metadata": {
    "ExecuteTime": {
     "end_time": "2018-07-09T14:39:16.506265Z",
     "start_time": "2018-07-09T14:39:16.412123Z"
    }
   },
   "outputs": [
    {
     "ename": "JSONDecodeError",
     "evalue": "Expecting value: line 1 column 1 (char 0)",
     "output_type": "error",
     "traceback": [
      "\u001b[1;31m---------------------------------------------------------------------------\u001b[0m",
      "\u001b[1;31mJSONDecodeError\u001b[0m                           Traceback (most recent call last)",
      "\u001b[1;32m<ipython-input-16-8f6cb8d71fec>\u001b[0m in \u001b[0;36m<module>\u001b[1;34m()\u001b[0m\n\u001b[1;32m----> 1\u001b[1;33m \u001b[0mdata\u001b[0m \u001b[1;33m=\u001b[0m \u001b[0mquery_ticket\u001b[0m\u001b[1;33m(\u001b[0m\u001b[1;34m'2018-07-23'\u001b[0m\u001b[1;33m,\u001b[0m \u001b[1;34m'BJP'\u001b[0m\u001b[1;33m,\u001b[0m \u001b[1;34m'SHH'\u001b[0m\u001b[1;33m,\u001b[0m \u001b[1;34m'ADULT'\u001b[0m\u001b[1;33m)\u001b[0m\u001b[1;33m[\u001b[0m\u001b[1;34m'data'\u001b[0m\u001b[1;33m]\u001b[0m\u001b[1;33m[\u001b[0m\u001b[1;34m'result'\u001b[0m\u001b[1;33m]\u001b[0m \u001b[1;31m#北京-上海\u001b[0m\u001b[1;33m\u001b[0m\u001b[0m\n\u001b[0m\u001b[0;32m      2\u001b[0m \u001b[1;31m# data = query_ticket('2018-07-23', 'BJP', 'SHH', 'ADULT')\u001b[0m\u001b[1;33m\u001b[0m\u001b[1;33m\u001b[0m\u001b[0m\n\u001b[0;32m      3\u001b[0m \u001b[0mdata\u001b[0m\u001b[1;33m\u001b[0m\u001b[0m\n\u001b[0;32m      4\u001b[0m \u001b[1;31m# data = query_ticket('2018-07-07', 'CQW', 'GZQ', 'ADULT')['data']['result'] #重庆-广州\u001b[0m\u001b[1;33m\u001b[0m\u001b[1;33m\u001b[0m\u001b[0m\n\u001b[0;32m      5\u001b[0m \u001b[1;31m# data = query_ticket('2018-07-07', 'HBB', 'GZQ', 'ADULT')['data']['result'] #哈尔滨-广州\u001b[0m\u001b[1;33m\u001b[0m\u001b[1;33m\u001b[0m\u001b[0m\n",
      "\u001b[1;32m<ipython-input-15-ecf96fc3e803>\u001b[0m in \u001b[0;36mquery_ticket\u001b[1;34m(train_date, from_station, to_station, ticket_type)\u001b[0m\n\u001b[0;32m      7\u001b[0m            'purpose_codes': ticket_type} #车票类型\n\u001b[0;32m      8\u001b[0m     \u001b[0mr\u001b[0m \u001b[1;33m=\u001b[0m \u001b[0mrequests\u001b[0m\u001b[1;33m.\u001b[0m\u001b[0mget\u001b[0m\u001b[1;33m(\u001b[0m\u001b[0murl\u001b[0m\u001b[1;33m,\u001b[0m \u001b[0mparams\u001b[0m\u001b[1;33m=\u001b[0m\u001b[0mpayload\u001b[0m\u001b[1;33m)\u001b[0m\u001b[1;33m\u001b[0m\u001b[0m\n\u001b[1;32m----> 9\u001b[1;33m     \u001b[1;32mreturn\u001b[0m \u001b[0mr\u001b[0m\u001b[1;33m.\u001b[0m\u001b[0mjson\u001b[0m\u001b[1;33m(\u001b[0m\u001b[1;33m)\u001b[0m\u001b[1;33m\u001b[0m\u001b[0m\n\u001b[0m\u001b[0;32m     10\u001b[0m \u001b[1;31m#     return r.text\u001b[0m\u001b[1;33m\u001b[0m\u001b[1;33m\u001b[0m\u001b[0m\n\u001b[0;32m     11\u001b[0m \u001b[1;33m\u001b[0m\u001b[0m\n",
      "\u001b[1;32mC:\\ProgramData\\Anaconda3\\lib\\site-packages\\requests\\models.py\u001b[0m in \u001b[0;36mjson\u001b[1;34m(self, **kwargs)\u001b[0m\n\u001b[0;32m    890\u001b[0m                     \u001b[1;31m# used.\u001b[0m\u001b[1;33m\u001b[0m\u001b[1;33m\u001b[0m\u001b[0m\n\u001b[0;32m    891\u001b[0m                     \u001b[1;32mpass\u001b[0m\u001b[1;33m\u001b[0m\u001b[0m\n\u001b[1;32m--> 892\u001b[1;33m         \u001b[1;32mreturn\u001b[0m \u001b[0mcomplexjson\u001b[0m\u001b[1;33m.\u001b[0m\u001b[0mloads\u001b[0m\u001b[1;33m(\u001b[0m\u001b[0mself\u001b[0m\u001b[1;33m.\u001b[0m\u001b[0mtext\u001b[0m\u001b[1;33m,\u001b[0m \u001b[1;33m**\u001b[0m\u001b[0mkwargs\u001b[0m\u001b[1;33m)\u001b[0m\u001b[1;33m\u001b[0m\u001b[0m\n\u001b[0m\u001b[0;32m    893\u001b[0m \u001b[1;33m\u001b[0m\u001b[0m\n\u001b[0;32m    894\u001b[0m     \u001b[1;33m@\u001b[0m\u001b[0mproperty\u001b[0m\u001b[1;33m\u001b[0m\u001b[0m\n",
      "\u001b[1;32mC:\\ProgramData\\Anaconda3\\lib\\json\\__init__.py\u001b[0m in \u001b[0;36mloads\u001b[1;34m(s, encoding, cls, object_hook, parse_float, parse_int, parse_constant, object_pairs_hook, **kw)\u001b[0m\n\u001b[0;32m    352\u001b[0m             \u001b[0mparse_int\u001b[0m \u001b[1;32mis\u001b[0m \u001b[1;32mNone\u001b[0m \u001b[1;32mand\u001b[0m \u001b[0mparse_float\u001b[0m \u001b[1;32mis\u001b[0m \u001b[1;32mNone\u001b[0m \u001b[1;32mand\u001b[0m\u001b[1;33m\u001b[0m\u001b[0m\n\u001b[0;32m    353\u001b[0m             parse_constant is None and object_pairs_hook is None and not kw):\n\u001b[1;32m--> 354\u001b[1;33m         \u001b[1;32mreturn\u001b[0m \u001b[0m_default_decoder\u001b[0m\u001b[1;33m.\u001b[0m\u001b[0mdecode\u001b[0m\u001b[1;33m(\u001b[0m\u001b[0ms\u001b[0m\u001b[1;33m)\u001b[0m\u001b[1;33m\u001b[0m\u001b[0m\n\u001b[0m\u001b[0;32m    355\u001b[0m     \u001b[1;32mif\u001b[0m \u001b[0mcls\u001b[0m \u001b[1;32mis\u001b[0m \u001b[1;32mNone\u001b[0m\u001b[1;33m:\u001b[0m\u001b[1;33m\u001b[0m\u001b[0m\n\u001b[0;32m    356\u001b[0m         \u001b[0mcls\u001b[0m \u001b[1;33m=\u001b[0m \u001b[0mJSONDecoder\u001b[0m\u001b[1;33m\u001b[0m\u001b[0m\n",
      "\u001b[1;32mC:\\ProgramData\\Anaconda3\\lib\\json\\decoder.py\u001b[0m in \u001b[0;36mdecode\u001b[1;34m(self, s, _w)\u001b[0m\n\u001b[0;32m    337\u001b[0m \u001b[1;33m\u001b[0m\u001b[0m\n\u001b[0;32m    338\u001b[0m         \"\"\"\n\u001b[1;32m--> 339\u001b[1;33m         \u001b[0mobj\u001b[0m\u001b[1;33m,\u001b[0m \u001b[0mend\u001b[0m \u001b[1;33m=\u001b[0m \u001b[0mself\u001b[0m\u001b[1;33m.\u001b[0m\u001b[0mraw_decode\u001b[0m\u001b[1;33m(\u001b[0m\u001b[0ms\u001b[0m\u001b[1;33m,\u001b[0m \u001b[0midx\u001b[0m\u001b[1;33m=\u001b[0m\u001b[0m_w\u001b[0m\u001b[1;33m(\u001b[0m\u001b[0ms\u001b[0m\u001b[1;33m,\u001b[0m \u001b[1;36m0\u001b[0m\u001b[1;33m)\u001b[0m\u001b[1;33m.\u001b[0m\u001b[0mend\u001b[0m\u001b[1;33m(\u001b[0m\u001b[1;33m)\u001b[0m\u001b[1;33m)\u001b[0m\u001b[1;33m\u001b[0m\u001b[0m\n\u001b[0m\u001b[0;32m    340\u001b[0m         \u001b[0mend\u001b[0m \u001b[1;33m=\u001b[0m \u001b[0m_w\u001b[0m\u001b[1;33m(\u001b[0m\u001b[0ms\u001b[0m\u001b[1;33m,\u001b[0m \u001b[0mend\u001b[0m\u001b[1;33m)\u001b[0m\u001b[1;33m.\u001b[0m\u001b[0mend\u001b[0m\u001b[1;33m(\u001b[0m\u001b[1;33m)\u001b[0m\u001b[1;33m\u001b[0m\u001b[0m\n\u001b[0;32m    341\u001b[0m         \u001b[1;32mif\u001b[0m \u001b[0mend\u001b[0m \u001b[1;33m!=\u001b[0m \u001b[0mlen\u001b[0m\u001b[1;33m(\u001b[0m\u001b[0ms\u001b[0m\u001b[1;33m)\u001b[0m\u001b[1;33m:\u001b[0m\u001b[1;33m\u001b[0m\u001b[0m\n",
      "\u001b[1;32mC:\\ProgramData\\Anaconda3\\lib\\json\\decoder.py\u001b[0m in \u001b[0;36mraw_decode\u001b[1;34m(self, s, idx)\u001b[0m\n\u001b[0;32m    355\u001b[0m             \u001b[0mobj\u001b[0m\u001b[1;33m,\u001b[0m \u001b[0mend\u001b[0m \u001b[1;33m=\u001b[0m \u001b[0mself\u001b[0m\u001b[1;33m.\u001b[0m\u001b[0mscan_once\u001b[0m\u001b[1;33m(\u001b[0m\u001b[0ms\u001b[0m\u001b[1;33m,\u001b[0m \u001b[0midx\u001b[0m\u001b[1;33m)\u001b[0m\u001b[1;33m\u001b[0m\u001b[0m\n\u001b[0;32m    356\u001b[0m         \u001b[1;32mexcept\u001b[0m \u001b[0mStopIteration\u001b[0m \u001b[1;32mas\u001b[0m \u001b[0merr\u001b[0m\u001b[1;33m:\u001b[0m\u001b[1;33m\u001b[0m\u001b[0m\n\u001b[1;32m--> 357\u001b[1;33m             \u001b[1;32mraise\u001b[0m \u001b[0mJSONDecodeError\u001b[0m\u001b[1;33m(\u001b[0m\u001b[1;34m\"Expecting value\"\u001b[0m\u001b[1;33m,\u001b[0m \u001b[0ms\u001b[0m\u001b[1;33m,\u001b[0m \u001b[0merr\u001b[0m\u001b[1;33m.\u001b[0m\u001b[0mvalue\u001b[0m\u001b[1;33m)\u001b[0m \u001b[1;32mfrom\u001b[0m \u001b[1;32mNone\u001b[0m\u001b[1;33m\u001b[0m\u001b[0m\n\u001b[0m\u001b[0;32m    358\u001b[0m         \u001b[1;32mreturn\u001b[0m \u001b[0mobj\u001b[0m\u001b[1;33m,\u001b[0m \u001b[0mend\u001b[0m\u001b[1;33m\u001b[0m\u001b[0m\n",
      "\u001b[1;31mJSONDecodeError\u001b[0m: Expecting value: line 1 column 1 (char 0)"
     ]
    }
   ],
   "source": [
    "data = query_ticket('2018-07-23', 'BJP', 'SHH', 'ADULT')['data']['result'] #北京-上海\n",
    "# data = query_ticket('2018-07-23', 'BJP', 'SHH', 'ADULT')\n",
    "data\n",
    "# data = query_ticket('2018-07-07', 'CQW', 'GZQ', 'ADULT')['data']['result'] #重庆-广州\n",
    "# data = query_ticket('2018-07-07', 'HBB', 'GZQ', 'ADULT')['data']['result'] #哈尔滨-广州\n",
    "# data = query_ticket('2018-07-07', 'TJP', 'GZQ', 'ADULT')['data']['result'] #天津-广州\n",
    "# pprint(data)\n",
    "# df_empty=trans_ticket(data)\n",
    "# df_empty\n",
    "# js=query_price('240000T10911', '01', '09', '14163', '2018-07-09')\n",
    "# js\n",
    "# price_json(js)\n",
    "# query_station('240000D9010F', 'BXP', 'IZQ', '2018-07-07')"
   ]
  },
  {
   "cell_type": "code",
   "execution_count": 20,
   "metadata": {
    "ExecuteTime": {
     "end_time": "2018-07-07T13:40:43.348645Z",
     "start_time": "2018-07-07T13:40:43.016155Z"
    }
   },
   "outputs": [
    {
     "data": {
      "text/plain": [
       "{'validateMessagesShowId': '_validatorMessage',\n",
       " 'status': True,\n",
       " 'httpstatus': 200,\n",
       " 'data': {'3': '3045',\n",
       "  'A1': '¥177.5',\n",
       "  '1': '1775',\n",
       "  'A4': '¥476.5',\n",
       "  'A3': '¥304.5',\n",
       "  'A6': '¥879.5',\n",
       "  '6': '8795',\n",
       "  '4': '4765',\n",
       "  'OT': [],\n",
       "  'WZ': '¥177.5',\n",
       "  'train_no': '240000T10911'},\n",
       " 'messages': [],\n",
       " 'validateMessages': {}}"
      ]
     },
     "execution_count": 20,
     "metadata": {},
     "output_type": "execute_result"
    }
   ],
   "source": [
    "js=query_price('240000T10911', '01', '09', '14163', '2018-07-09')\n",
    "js"
   ]
  }
 ],
 "metadata": {
  "hide_input": false,
  "kernelspec": {
   "display_name": "Python 3",
   "language": "python",
   "name": "python3"
  },
  "language_info": {
   "codemirror_mode": {
    "name": "ipython",
    "version": 3
   },
   "file_extension": ".py",
   "mimetype": "text/x-python",
   "name": "python",
   "nbconvert_exporter": "python",
   "pygments_lexer": "ipython3",
   "version": "3.6.5"
  },
  "toc": {
   "base_numbering": 1,
   "nav_menu": {},
   "number_sections": true,
   "sideBar": true,
   "skip_h1_title": false,
   "title_cell": "Table of Contents",
   "title_sidebar": "Contents",
   "toc_cell": false,
   "toc_position": {},
   "toc_section_display": true,
   "toc_window_display": false
  }
 },
 "nbformat": 4,
 "nbformat_minor": 2
}
