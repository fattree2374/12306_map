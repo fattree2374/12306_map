{
 "cells": [
  {
   "cell_type": "markdown",
   "metadata": {
    "code_folding": []
   },
   "source": [
    "# 引导区"
   ]
  },
  {
   "cell_type": "code",
   "execution_count": 1,
   "metadata": {
    "ExecuteTime": {
     "end_time": "2018-07-07T12:36:22.551457Z",
     "start_time": "2018-07-07T12:36:22.180Z"
    },
    "scrolled": false
   },
   "outputs": [
    {
     "name": "stderr",
     "output_type": "stream",
     "text": [
      "Loading required package: sp\n",
      "Checking rgeos availability: FALSE\n",
      " \tNote: when rgeos is not available, polygon geometry \tcomputations in maptools depend on gpclib,\n",
      " \twhich has a restricted licence. It is disabled by default;\n",
      " \tto enable gpclib, type gpclibPermit()\n"
     ]
    }
   ],
   "source": [
    "library(ggplot2)\n",
    "library(plyr)\n",
    "library(maptools)"
   ]
  },
  {
   "cell_type": "markdown",
   "metadata": {},
   "source": [
    "# 数据准备区"
   ]
  },
  {
   "cell_type": "code",
   "execution_count": 2,
   "metadata": {
    "ExecuteTime": {
     "end_time": "2018-07-07T12:36:26.203017Z",
     "start_time": "2018-07-07T12:36:25.274Z"
    }
   },
   "outputs": [
    {
     "name": "stderr",
     "output_type": "stream",
     "text": [
      "Warning message:\n",
      "\"use rgdal::readOGR or sf::st_read\"Regions defined for each Polygons\n"
     ]
    }
   ],
   "source": [
    "setwd(\"F:/Github/12306_map/map_data\") #确定文件路径\n",
    "\n",
    "china_map <-readShapePoly(\"bou2_4p.shp\") # 读取地图空间数据\n",
    "china_map <- fortify(china_map) #转化为数据框\n",
    "station_data<-read.csv(\"chinaprovincecity.csv\") #读取省会城市坐标\n",
    "map_data<-read.csv(\"group_province_map2.csv\")\n",
    "# china_map<-merge(china_map, map_data, by.x = \"group\", by.y = \"group\") #过滤掉不需要的省份"
   ]
  },
  {
   "cell_type": "markdown",
   "metadata": {},
   "source": [
    "# 函数区"
   ]
  },
  {
   "cell_type": "code",
   "execution_count": 3,
   "metadata": {
    "ExecuteTime": {
     "end_time": "2018-07-07T12:36:28.867635Z",
     "start_time": "2018-07-07T12:36:28.834Z"
    }
   },
   "outputs": [],
   "source": [
    "map_plot <- function(map_data) {\n",
    "   ggplot()+\n",
    "    geom_polygon(data=map_data, aes(x=long, y=lat, group=group),fill=\"grey95\", colour=\"grey60\",size=0.25)+ #中国地图\n",
    "    # geom_point(data=station_data, aes(x = jd,y = wd),size=4,fill=\"black\", alpha=1,shape=21, colour=\"white\")+ #散点图\n",
    "    #geom_segment(data=dataF,aes(x=soux,y=souy,xend=tagx,yend=tagy,colour=\"black\"),colour=\"black\")+ 在地图上绘制线段\n",
    "    #geom_text(data=guangdong_station,aes(x = longitude,y = latitude,label = station), vjust = 0, colour = 'black', size = 1)+ 添加文本\n",
    "    # geom_text(data=station_data,aes(x = jd,y = wd,label = province), size = 3, vjust = 2)+\n",
    "    coord_map(\"polyconic\") #将地图变成球状展示，不加则是直角单元格，coord系列函数是ggplot2中的坐标系设置函数\n",
    "}"
   ]
  },
  {
   "cell_type": "markdown",
   "metadata": {},
   "source": [
    "# 数据处理及变换区"
   ]
  },
  {
   "cell_type": "code",
   "execution_count": 5,
   "metadata": {},
   "outputs": [],
   "source": []
  },
  {
   "cell_type": "markdown",
   "metadata": {},
   "source": [
    "# 绘图区"
   ]
  },
  {
   "cell_type": "code",
   "execution_count": 4,
   "metadata": {
    "ExecuteTime": {
     "end_time": "2018-07-07T12:36:32.891461Z",
     "start_time": "2018-07-07T12:36:32.138Z"
    },
    "scrolled": true
   },
   "outputs": [
    {
     "data": {},
     "metadata": {},
     "output_type": "display_data"
    },
    {
     "data": {
      "image/png": "[encoded data removed]",
      "text/plain": [
       "plot without title"
      ]
     },
     "metadata": {},
     "output_type": "display_data"
    }
   ],
   "source": [
    "#输入数据：从china_map中挑选出指定省份\n",
    "map_plot(china_map[china_map$group %in% c(map_data$group),])"
   ]
  }
 ],
 "metadata": {
  "hide_input": false,
  "kernelspec": {
   "display_name": "R",
   "language": "R",
   "name": "ir"
  },
  "language_info": {
   "codemirror_mode": "r",
   "file_extension": ".r",
   "mimetype": "text/x-r-source",
   "name": "R",
   "pygments_lexer": "r",
   "version": "3.3.3"
  },
  "toc": {
   "base_numbering": 1,
   "nav_menu": {},
   "number_sections": true,
   "sideBar": true,
   "skip_h1_title": false,
   "title_cell": "Table of Contents",
   "title_sidebar": "Contents",
   "toc_cell": false,
   "toc_position": {},
   "toc_section_display": true,
   "toc_window_display": false
  }
 },
 "nbformat": 4,
 "nbformat_minor": 2
}
