{
 "cells": [
  {
   "cell_type": "markdown",
   "metadata": {
    "code_folding": []
   },
   "source": [
    "# 引导区"
   ]
  },
  {
   "cell_type": "code",
   "execution_count": 3,
   "metadata": {
    "ExecuteTime": {
     "end_time": "2018-07-07T10:43:53.164144Z",
     "start_time": "2018-07-07T10:43:52.912Z"
    },
    "scrolled": false
   },
   "outputs": [
    {
     "name": "stderr",
     "output_type": "stream",
     "text": [
      "Loading required package: sp\n",
      "Checking rgeos availability: FALSE\n",
      " \tNote: when rgeos is not available, polygon geometry \tcomputations in maptools depend on gpclib,\n",
      " \twhich has a restricted licence. It is disabled by default;\n",
      " \tto enable gpclib, type gpclibPermit()\n"
     ]
    }
   ],
   "source": [
    "library(ggplot2)\n",
    "library(plyr)\n",
    "library(maptools)"
   ]
  },
  {
   "cell_type": "markdown",
   "metadata": {},
   "source": [
    "# 数据准备区"
   ]
  },
  {
   "cell_type": "code",
   "execution_count": 5,
   "metadata": {
    "ExecuteTime": {
     "end_time": "2018-07-07T10:44:35.493379Z",
     "start_time": "2018-07-07T10:44:34.592Z"
    }
   },
   "outputs": [
    {
     "name": "stderr",
     "output_type": "stream",
     "text": [
      "Warning message:\n",
      "\"use rgdal::readOGR or sf::st_read\"Regions defined for each Polygons\n"
     ]
    }
   ],
   "source": [
    "setwd(\"F:/Jupyter/8month_travel/map_data\") #确定文件路径\n",
    "\n",
    "china_map <-readShapePoly(\"bou2_4p.shp\") # 读取地图空间数据\n",
    "china_map <- fortify(china_map) #转化为数据框\n",
    "station_data<-read.csv(\"chinaprovincecity.csv\") #读取省会城市坐标\n",
    "map_data<-read.csv(\"group_province_map2.csv\")\n",
    "# china_map<-merge(china_map, map_data, by.x = \"group\", by.y = \"group\") #过滤掉不需要的省份"
   ]
  },
  {
   "cell_type": "markdown",
   "metadata": {},
   "source": [
    "# 函数区"
   ]
  },
  {
   "cell_type": "code",
   "execution_count": 6,
   "metadata": {
    "ExecuteTime": {
     "end_time": "2018-07-07T10:44:38.597861Z",
     "start_time": "2018-07-07T10:44:38.576Z"
    }
   },
   "outputs": [],
   "source": [
    "map_plot <- function(map_data) {\n",
    "   ggplot()+\n",
    "    geom_polygon(data=map_data, aes(x=long, y=lat, group=group),fill=\"grey95\", colour=\"grey60\",size=0.25)+ #中国地图\n",
    "    # geom_point(data=station_data, aes(x = jd,y = wd),size=4,fill=\"black\", alpha=1,shape=21, colour=\"white\")+ #散点图\n",
    "    #geom_segment(data=dataF,aes(x=soux,y=souy,xend=tagx,yend=tagy,colour=\"black\"),colour=\"black\")+ 在地图上绘制线段\n",
    "    #geom_text(data=guangdong_station,aes(x = longitude,y = latitude,label = station), vjust = 0, colour = 'black', size = 1)+ 添加文本\n",
    "    # geom_text(data=station_data,aes(x = jd,y = wd,label = province), size = 3, vjust = 2)+\n",
    "    coord_map(\"polyconic\") #将地图变成球状展示，不加则是直角单元格，coord系列函数是ggplot2中的坐标系设置函数\n",
    "}"
   ]
  },
  {
   "cell_type": "markdown",
   "metadata": {},
   "source": [
    "# 数据处理及变换区"
   ]
  },
  {
   "cell_type": "code",
   "execution_count": 5,
   "metadata": {},
   "outputs": [],
   "source": []
  },
  {
   "cell_type": "markdown",
   "metadata": {},
   "source": [
    "# 绘图区"
   ]
  },
  {
   "cell_type": "code",
   "execution_count": 7,
   "metadata": {
    "ExecuteTime": {
     "end_time": "2018-07-07T10:44:51.331423Z",
     "start_time": "2018-07-07T10:44:51.159Z"
    },
    "scrolled": true
   },
   "outputs": [
    {
     "name": "stderr",
     "output_type": "stream",
     "text": [
      "ERROR while rich displaying an object: Error in loadNamespace(name): there is no package called 'mapproj'\n",
      "\n",
      "Traceback:\n",
      "1. FUN(X[[i]], ...)\n",
      "2. tryCatch(withCallingHandlers({\n",
      " .     rpr <- mime2repr[[mime]](obj)\n",
      " .     if (is.null(rpr)) \n",
      " .         return(NULL)\n",
      " .     prepare_content(is.raw(rpr), rpr)\n",
      " . }, error = error_handler), error = outer_handler)\n",
      "3. tryCatchList(expr, classes, parentenv, handlers)\n",
      "4. tryCatchOne(expr, names, parentenv, handlers[[1L]])\n",
      "5. doTryCatch(return(expr), name, parentenv, handler)\n",
      "6. withCallingHandlers({\n",
      " .     rpr <- mime2repr[[mime]](obj)\n",
      " .     if (is.null(rpr)) \n",
      " .         return(NULL)\n",
      " .     prepare_content(is.raw(rpr), rpr)\n",
      " . }, error = error_handler)\n",
      "7. mime2repr[[mime]](obj)\n",
      "8. repr_text.default(obj)\n",
      "9. paste(capture.output(print(obj)), collapse = \"\\n\")\n",
      "10. capture.output(print(obj))\n",
      "11. evalVis(expr)\n",
      "12. withVisible(eval(expr, pf))\n",
      "13. eval(expr, pf)\n",
      "14. eval(expr, envir, enclos)\n",
      "15. print(obj)\n",
      "16. print.ggplot(obj)\n",
      "17. ggplot_build(x)\n",
      "18. ggplot_build.ggplot(x)\n",
      "19. layout$setup_panel_params()\n",
      "20. f(..., self = self)\n",
      "21. Map(setup_panel_params, scales_x, scales_y)\n",
      "22. mapply(FUN = f, ..., SIMPLIFY = FALSE)\n",
      "23. (function (scale_x, scale_y) \n",
      "  . {\n",
      "  .     self$coord$setup_panel_params(scale_x, scale_y, params = self$coord_params)\n",
      "  . })(dots[[1L]][[1L]], dots[[2L]][[1L]])\n",
      "24. self$coord$setup_panel_params(scale_x, scale_y, params = self$coord_params)\n",
      "25. f(..., self = self)\n",
      "26. mproject(self, grid$x, grid$y, orientation)\n",
      "27. suppressWarnings(mapproj::mapproject(x, y, projection = coord$projection, \n",
      "  .     parameters = coord$params, orientation = orientation))\n",
      "28. withCallingHandlers(expr, warning = function(w) invokeRestart(\"muffleWarning\"))\n",
      "29. mapproj::mapproject\n",
      "30. getExportedValue(pkg, name)\n",
      "31. asNamespace(ns)\n",
      "32. getNamespace(ns)\n",
      "33. tryCatch(loadNamespace(name), error = function(e) stop(e))\n",
      "34. tryCatchList(expr, classes, parentenv, handlers)\n",
      "35. tryCatchOne(expr, names, parentenv, handlers[[1L]])\n",
      "36. value[[3L]](cond)\n"
     ]
    },
    {
     "data": {},
     "metadata": {},
     "output_type": "display_data"
    },
    {
     "data": {
      "image/png": "[encoded data removed]",
      "text/plain": [
       "plot without title"
      ]
     },
     "metadata": {},
     "output_type": "display_data"
    }
   ],
   "source": [
    "#输入数据：从china_map中挑选出指定省份\n",
    "map_plot(china_map[china_map$group %in% c(map_data$group),])"
   ]
  }
 ],
 "metadata": {
  "hide_input": false,
  "kernelspec": {
   "display_name": "R",
   "language": "R",
   "name": "ir"
  },
  "language_info": {
   "codemirror_mode": "r",
   "file_extension": ".r",
   "mimetype": "text/x-r-source",
   "name": "R",
   "pygments_lexer": "r",
   "version": "3.3.3"
  },
  "toc": {
   "base_numbering": 1,
   "nav_menu": {},
   "number_sections": true,
   "sideBar": true,
   "skip_h1_title": false,
   "title_cell": "Table of Contents",
   "title_sidebar": "Contents",
   "toc_cell": false,
   "toc_position": {},
   "toc_section_display": true,
   "toc_window_display": false
  }
 },
 "nbformat": 4,
 "nbformat_minor": 2
}
