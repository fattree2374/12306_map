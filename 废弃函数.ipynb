{
 "cells": [
  {
   "cell_type": "code",
   "execution_count": null,
   "metadata": {},
   "outputs": [],
   "source": [
    "import json\n",
    "import requests\n",
    "from pprint import pprint"
   ]
  },
  {
   "cell_type": "code",
   "execution_count": null,
   "metadata": {
    "code_folding": [
     1,
     15
    ]
   },
   "outputs": [],
   "source": [
    "# 查询站名映射表，并将数据写入到station_name_map.json\n",
    "def query_map():\n",
    "    url='https://kyfw.12306.cn/otn/resources/js/framework/station_name.js'\n",
    "    r = requests.get(url).text.split(\"\\'\")[1]\n",
    "    lens = len(data)-1\n",
    "\n",
    "    dicts = {}\n",
    "    for i in range(int(lens/5)):\n",
    "        dicts[data[i*5+1]] = {\"@站点简拼\":data[i*5+0], \"站点代码\":data[i*5+2], \"站点拼音\":data[i*5+3], \"站点简拼\":data[i*5+4]}\n",
    "    jsons = json.dumps(dicts, ensure_ascii=False)\n",
    "\n",
    "    with open(\"station_name_map.json\", \"w\", encoding='utf8') as f:\n",
    "        f.write(jsons)\n",
    "\n",
    "# 查询列车车次表，并将数据写入train_list.json\n",
    "def query_train_list():\n",
    "    url='https://kyfw.12306.cn/otn/resources/js/query/train_list.js'\n",
    "    r = requests.get(url)\n",
    "    datas = r.text.split('=')[1]\n",
    "\n",
    "    with open(\"train_list.json\", \"w\", encoding='utf8') as f:\n",
    "        f.write(datas)"
   ]
  }
 ],
 "metadata": {
  "kernelspec": {
   "display_name": "Python 3",
   "language": "python",
   "name": "python3"
  },
  "language_info": {
   "codemirror_mode": {
    "name": "ipython",
    "version": 3
   },
   "file_extension": ".py",
   "mimetype": "text/x-python",
   "name": "python",
   "nbconvert_exporter": "python",
   "pygments_lexer": "ipython3",
   "version": "3.6.5"
  },
  "toc": {
   "base_numbering": 1,
   "nav_menu": {},
   "number_sections": true,
   "sideBar": true,
   "skip_h1_title": false,
   "title_cell": "Table of Contents",
   "title_sidebar": "Contents",
   "toc_cell": false,
   "toc_position": {},
   "toc_section_display": true,
   "toc_window_display": false
  }
 },
 "nbformat": 4,
 "nbformat_minor": 2
}
